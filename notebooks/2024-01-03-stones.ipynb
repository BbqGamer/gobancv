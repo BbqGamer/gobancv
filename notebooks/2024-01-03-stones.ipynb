{
 "cells": [
  {
   "cell_type": "code",
   "execution_count": null,
   "metadata": {},
   "outputs": [],
   "source": [
    "import cv2 as cv\n",
    "import matplotlib.pyplot as plt\n",
    "import numpy as np\n",
    "import os\n",
    "import sys \n",
    "sys.path.append('../')\n",
    "from more_itertools import chunked\n",
    "import csv\n",
    "from gobancv.stones import draw_circles\n",
    "\n",
    "def read_labels(filename):\n",
    "    files = []\n",
    "    labels = []\n",
    "    with open(filename, 'r') as f:\n",
    "        reader = csv.reader(f)\n",
    "        next(reader) # skip header\n",
    "        for row in reader:\n",
    "            files.append(row[0])\n",
    "            labels.append(list(chunked(map(int, row[1:]), 2)))\n",
    "    return files, labels\n",
    "\n",
    "def imshow(img, size=(5, 5)):\n",
    "    img = cv.cvtColor(img, cv.COLOR_BGR2RGB)\n",
    "    plt.rcParams['figure.figsize'] = size\n",
    "    plt.imshow(img)\n",
    "    plt.yticks([])\n",
    "    plt.xticks([])\n",
    "    plt.show()\n",
    "\n",
    "files, labels = read_labels(\"../data/labels/border_labels.csv\")\n",
    "imgs = []\n",
    "for file in files:\n",
    "    imgs.append(cv.imread(\"../\" + file))\n",
    "\n",
    "warped = []\n",
    "for img, label in zip(imgs, labels):\n",
    "    W = min(img.shape[:2])\n",
    "    imgc = img.copy()\n",
    "\n",
    "    dest_points = np.array([[0, 0], [0, W], [W, W], [W, 0]], dtype=np.float32)\n",
    "    M = cv.getPerspectiveTransform(np.array(label, dtype=np.float32), dest_points)\n",
    "    \n",
    "    img_warped = cv.warpPerspective(imgc, M, (W, W))\n",
    "    warped.append(img_warped)"
   ]
  },
  {
   "cell_type": "markdown",
   "metadata": {},
   "source": [
    "## Median blur"
   ]
  },
  {
   "cell_type": "code",
   "execution_count": null,
   "metadata": {},
   "outputs": [],
   "source": [
    "for warp in warped:\n",
    "    gray = cv.cvtColor(warp, cv.COLOR_BGR2GRAY)\n",
    "    # mean blur\n",
    "    blur = cv.medianBlur(gray, 13)\n",
    "    circles = cv.HoughCircles(\n",
    "        blur,\n",
    "        cv.HOUGH_GRADIENT,\n",
    "        dp=1,\n",
    "        minDist=10,\n",
    "        param1=200, # upper threshold for Canny edge detector\n",
    "        param2=15,\n",
    "        minRadius=5,\n",
    "        maxRadius=50\n",
    "    )\n",
    "    with_circles = gray.copy()\n",
    "    draw_circles(with_circles, circles)\n",
    "    imshow(np.concatenate([gray, blur, with_circles], axis=1), size=(15, 5))"
   ]
  }
 ],
 "metadata": {
  "kernelspec": {
   "display_name": "ir",
   "language": "python",
   "name": "python3"
  },
  "language_info": {
   "codemirror_mode": {
    "name": "ipython",
    "version": 3
   },
   "file_extension": ".py",
   "mimetype": "text/x-python",
   "name": "python",
   "nbconvert_exporter": "python",
   "pygments_lexer": "ipython3",
   "version": "3.11.5"
  }
 },
 "nbformat": 4,
 "nbformat_minor": 2
}

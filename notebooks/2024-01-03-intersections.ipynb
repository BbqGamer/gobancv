{
 "cells": [
  {
   "cell_type": "code",
   "execution_count": null,
   "metadata": {},
   "outputs": [],
   "source": [
    "import cv2 as cv\n",
    "import matplotlib.pyplot as plt\n",
    "import numpy as np\n",
    "import os\n",
    "import sys \n",
    "sys.path.append('../')\n",
    "from more_itertools import chunked\n",
    "import csv\n",
    "\n",
    "def read_labels(filename):\n",
    "    files = []\n",
    "    labels = []\n",
    "    with open(filename, 'r') as f:\n",
    "        reader = csv.reader(f)\n",
    "        next(reader) # skip header\n",
    "        for row in reader:\n",
    "            files.append(row[0])\n",
    "            labels.append(list(chunked(map(int, row[1:]), 2)))\n",
    "    return files, labels\n",
    "\n",
    "def imshow(img, size=(5, 5)):\n",
    "    img = cv.cvtColor(img, cv.COLOR_BGR2RGB)\n",
    "    plt.rcParams['figure.figsize'] = size\n",
    "    plt.imshow(img)\n",
    "    plt.yticks([])\n",
    "    plt.xticks([])\n",
    "    plt.show()\n",
    "\n",
    "files, labels = read_labels(\"../data/labels/border_labels.csv\")\n",
    "imgs = []\n",
    "for file in files:\n",
    "    imgs.append(cv.imread(\"../\" + file))"
   ]
  },
  {
   "cell_type": "code",
   "execution_count": null,
   "metadata": {},
   "outputs": [],
   "source": [
    "warped = []\n",
    "for img, label in zip(imgs, labels):\n",
    "    W = min(img.shape[:2])\n",
    "    imgc = img.copy()\n",
    "\n",
    "    dest_points = np.array([[0, 0], [0, W], [W, W], [W, 0]], dtype=np.float32)\n",
    "    M = cv.getPerspectiveTransform(np.array(label, dtype=np.float32), dest_points)\n",
    "    \n",
    "    img_warped = cv.warpPerspective(imgc, M, (W, W))\n",
    "    warped.append(img_warped)"
   ]
  },
  {
   "cell_type": "markdown",
   "metadata": {},
   "source": [
    "## remove stones and try to inpaint"
   ]
  },
  {
   "cell_type": "code",
   "execution_count": null,
   "metadata": {},
   "outputs": [],
   "source": [
    "imshow(warped[7])"
   ]
  },
  {
   "cell_type": "code",
   "execution_count": null,
   "metadata": {},
   "outputs": [],
   "source": [
    "for warp in warped:\n",
    "    gray = cv.cvtColor(warp, cv.COLOR_BGR2GRAY)\n",
    "    filtered = cv.bilateralFilter(gray, 3, 75, 75)\n",
    "    adaptive = cv.adaptiveThreshold(\n",
    "        filtered, 255, cv.ADAPTIVE_THRESH_GAUSSIAN_C, cv.THRESH_BINARY_INV,\n",
    "        blockSize=15, # to tune\n",
    "        C=8)          # to tune\n",
    "\n",
    "    dilated = cv.dilate(adaptive, np.ones((3, 3), np.uint8), iterations=3)\n",
    "    eroded = cv.erode(dilated, np.ones((3, 3), np.uint8), iterations=3)\n",
    "\n",
    "    imshow(np.concatenate([gray, eroded], axis=1), size=(20, 20))\n"
   ]
  }
 ],
 "metadata": {
  "kernelspec": {
   "display_name": "ir",
   "language": "python",
   "name": "python3"
  },
  "language_info": {
   "codemirror_mode": {
    "name": "ipython",
    "version": 3
   },
   "file_extension": ".py",
   "mimetype": "text/x-python",
   "name": "python",
   "nbconvert_exporter": "python",
   "pygments_lexer": "ipython3",
   "version": "3.11.5"
  }
 },
 "nbformat": 4,
 "nbformat_minor": 2
}
